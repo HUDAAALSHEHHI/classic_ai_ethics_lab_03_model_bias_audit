{
  "nbformat": 4,
  "nbformat_minor": 0,
  "metadata": {
    "colab": {
      "provenance": [],
      "gpuType": "A100"
    },
    "kernelspec": {
      "name": "python3",
      "display_name": "Python 3"
    },
    "language_info": {
      "name": "python"
    },
    "accelerator": "GPU"
  },
  "cells": [
    {
      "cell_type": "code",
      "execution_count": 1,
      "metadata": {
        "id": "Kt1iRWW0QyN8"
      },
      "outputs": [],
      "source": [
        "import pandas as pd\n",
        "from sklearn.model_selection import train_test_split\n",
        "from sklearn.feature_extraction.text import CountVectorizer\n",
        "from sklearn.linear_model import LogisticRegression\n",
        "from sklearn.metrics import accuracy_score, confusion_matrix\n",
        "\n",
        "data = pd.DataFrame({\n",
        "    \"text\": [\n",
        "        \"He is a great leader\", \"She is emotional\", \"He is decisive\",\n",
        "        \"She is caring\", \"He is ambitious\", \"She is beautiful\"\n",
        "    ],\n",
        "    \"gender\": [\"male\", \"female\", \"male\", \"female\", \"male\", \"female\"],\n",
        "    \"label\": [1, 0, 1, 0, 1, 0]\n",
        "})\n",
        "\n",
        "X_train, X_test, y_train, y_test = train_test_split(data[\"text\"], data[\"label\"], test_size=0.3, random_state=42)\n",
        "vectorizer = CountVectorizer()\n",
        "X_train_vec = vectorizer.fit_transform(X_train)\n",
        "X_test_vec = vectorizer.transform(X_test)\n"
      ]
    },
    {
      "cell_type": "code",
      "source": [
        "model = LogisticRegression()\n",
        "model.fit(X_train_vec, y_train)\n",
        "preds = model.predict(X_test_vec)\n",
        "acc = accuracy_score(y_test, preds)\n",
        "cm = confusion_matrix(y_test, preds)\n",
        "print(\"Accuracy:\", acc)\n",
        "print(\"Confusion Matrix:\\n\", cm)\n"
      ],
      "metadata": {
        "colab": {
          "base_uri": "https://localhost:8080/"
        },
        "id": "g0XUQcwNS-rC",
        "outputId": "b7900afa-0d22-4214-a1a2-baa652c5537b"
      },
      "execution_count": 2,
      "outputs": [
        {
          "output_type": "stream",
          "name": "stdout",
          "text": [
            "Accuracy: 1.0\n",
            "Confusion Matrix:\n",
            " [[1 0]\n",
            " [0 1]]\n"
          ]
        }
      ]
    },
    {
      "cell_type": "code",
      "source": [
        "weights = pd.DataFrame({\n",
        "    'word': vectorizer.get_feature_names_out(),\n",
        "    'coef': model.coef_[0]\n",
        "}).sort_values(by='coef', ascending=False)\n",
        "print(weights.head(10))\n"
      ],
      "metadata": {
        "colab": {
          "base_uri": "https://localhost:8080/"
        },
        "id": "prgpBZGCTDl0",
        "outputId": "11b3932d-f106-41c9-9c4d-a21b75aa0dc9"
      },
      "execution_count": 3,
      "outputs": [
        {
          "output_type": "stream",
          "name": "stdout",
          "text": [
            "        word          coef\n",
            "4         he  5.864743e-01\n",
            "3   decisive  2.932372e-01\n",
            "0  ambitious  2.932372e-01\n",
            "5         is -7.186836e-17\n",
            "1  beautiful -2.932372e-01\n",
            "2     caring -2.932372e-01\n",
            "6        she -5.864743e-01\n"
          ]
        }
      ]
    },
    {
      "cell_type": "code",
      "source": [],
      "metadata": {
        "id": "ayd-WSZHTGW8"
      },
      "execution_count": null,
      "outputs": []
    }
  ]
}